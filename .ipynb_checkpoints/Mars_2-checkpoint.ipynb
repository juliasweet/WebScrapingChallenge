{
 "cells": [
  {
   "cell_type": "markdown",
   "metadata": {},
   "source": [
    "# Mission to Mars\n",
    "\n",
    "## Part One: Scraping\n",
    "\n",
    "### Featuring Beautiful Soup, Pandas, and Requests/Splinter"
   ]
  },
  {
   "cell_type": "code",
   "execution_count": 255,
   "metadata": {},
   "outputs": [],
   "source": [
    "# Import dependencies\n",
    "import pandas as pd\n",
    "from bs4 import BeautifulSoup as bs\n",
    "from splinter import Browser\n",
    "import requests\n",
    "import time"
   ]
  },
  {
   "cell_type": "code",
   "execution_count": 256,
   "metadata": {},
   "outputs": [],
   "source": [
    "# Initialize Splinter\n",
    "executable_path = {'executable_path': 'chromedriver.exe'}\n",
    "browser = Browser('chrome', **executable_path, headless=False)"
   ]
  },
  {
   "cell_type": "markdown",
   "metadata": {},
   "source": [
    "### Scraping NASA Mars News\n",
    "\n",
    "Using Splinter. "
   ]
  },
  {
   "cell_type": "code",
   "execution_count": 257,
   "metadata": {},
   "outputs": [],
   "source": [
    "# Scrape the NASA Mars News Site to collect the latest News Title and Paragraph Text.\n",
    "# Go forth. \n",
    "NASAurl = 'https://mars.nasa.gov/news/'\n",
    "browser.visit(NASAurl)"
   ]
  },
  {
   "cell_type": "code",
   "execution_count": 258,
   "metadata": {},
   "outputs": [],
   "source": [
    "# Make some Mars soup\n",
    "html = browser.html\n",
    "NASAsoup = bs(html, 'html.parser')"
   ]
  },
  {
   "cell_type": "code",
   "execution_count": 259,
   "metadata": {
    "scrolled": false
   },
   "outputs": [],
   "source": [
    "# Confirm success.\n",
    "#print(NASAsoup.prettify())"
   ]
  },
  {
   "cell_type": "code",
   "execution_count": 260,
   "metadata": {},
   "outputs": [],
   "source": [
    "# If you gaze long enough into the soup, the soup also gazes back into you. \n",
    "# Assign the results text for News Title and Paragraph to variables. \n",
    "NASAtitle1 = NASAsoup.find('div', class_ = 'content_title').text\n",
    "NASAparagraph1 = NASAsoup.find('div', class_ = 'article_teaser_body').text"
   ]
  },
  {
   "cell_type": "code",
   "execution_count": 261,
   "metadata": {
    "scrolled": true
   },
   "outputs": [
    {
     "name": "stdout",
     "output_type": "stream",
     "text": [
      "What's Mars Solar Conjunction, and Why Does It Matter?\n",
      "NASA spacecraft at Mars are going to be on their own for a few weeks when the Sun comes between Mars and Earth, interrupting communications.\n"
     ]
    }
   ],
   "source": [
    "# Testing\n",
    "print(NASAtitle1)\n",
    "print(NASAparagraph1)\n",
    "# Mars soup is delicious. "
   ]
  },
  {
   "cell_type": "markdown",
   "metadata": {},
   "source": [
    "### Scrape JPL Mars Space Images -- Featured Image\n",
    "\n",
    "Use Splinter."
   ]
  },
  {
   "cell_type": "code",
   "execution_count": 262,
   "metadata": {},
   "outputs": [],
   "source": [
    "# Set the URL and visit the page. \n",
    "JPLurl = 'https://www.jpl.nasa.gov/spaceimages/?search=&category=Mars'\n",
    "browser.visit(JPLurl)"
   ]
  },
  {
   "cell_type": "code",
   "execution_count": 263,
   "metadata": {},
   "outputs": [],
   "source": [
    "# Navigate to the full image using a button.\n",
    "browser.click_link_by_partial_text('FULL IMAGE')\n",
    "time.sleep(1)"
   ]
  },
  {
   "cell_type": "code",
   "execution_count": 264,
   "metadata": {},
   "outputs": [],
   "source": [
    "# And again\n",
    "browser.click_link_by_partial_text('more info')\n",
    "time.sleep(1)"
   ]
  },
  {
   "cell_type": "code",
   "execution_count": 265,
   "metadata": {},
   "outputs": [],
   "source": [
    "# Make some Jet Propulsion soup\n",
    "html = browser.html\n",
    "JPLsoup = bs(html, 'html.parser')"
   ]
  },
  {
   "cell_type": "code",
   "execution_count": 266,
   "metadata": {},
   "outputs": [],
   "source": [
    "# Confirm that your soup was delivered.\n",
    "# JPLsoup.prettify()"
   ]
  },
  {
   "cell_type": "code",
   "execution_count": 267,
   "metadata": {},
   "outputs": [
    {
     "name": "stdout",
     "output_type": "stream",
     "text": [
      "https://www.jpl.nasa.gov/spaceimages/images/largesize/PIA19821_hires.jpg\n"
     ]
    }
   ],
   "source": [
    "# Get the URL\n",
    "# Get the relative first\n",
    "# Get the lede figure\n",
    "# # Get the src (relative path)\n",
    "relative_path = JPLsoup.select_one('figure.lede a').get('href')\n",
    "\n",
    "# Add it to the end of the full path\n",
    "full_path = f'https://www.jpl.nasa.gov{relative_path}'\n",
    "\n",
    "print(full_path)"
   ]
  },
  {
   "cell_type": "markdown",
   "metadata": {},
   "source": [
    "### Scrape Mars Weather Twitter account. \n",
    "\n",
    "Use Splinter."
   ]
  },
  {
   "cell_type": "code",
   "execution_count": 268,
   "metadata": {},
   "outputs": [],
   "source": [
    "# Set URL path and visit\n",
    "MWRurl = 'https://twitter.com/marswxreport?lang=en'\n",
    "browser.visit(MWRurl)"
   ]
  },
  {
   "cell_type": "code",
   "execution_count": 269,
   "metadata": {},
   "outputs": [],
   "source": [
    "# Make Twitter soup\n",
    "html=browser.html\n",
    "MWRsoup= bs(html, 'html.parser')"
   ]
  },
  {
   "cell_type": "code",
   "execution_count": 270,
   "metadata": {},
   "outputs": [],
   "source": [
    "# Get the weather info by scraping\n",
    "mars_weather = MWRsoup.find('p', class_=\"TweetTextSize TweetTextSize--normal js-tweet-text tweet-text\").text"
   ]
  },
  {
   "cell_type": "code",
   "execution_count": 271,
   "metadata": {},
   "outputs": [
    {
     "data": {
      "text/plain": [
       "'InSight sol 261 (2019-08-21) low -102.4ºC (-152.4ºF) high -26.6ºC (-15.8ºF)\\nwinds from the SSE at 4.9 m/s (11.0 mph) gusting to 16.0 m/s (35.8 mph)\\npressure at 7.70 hPapic.twitter.com/MhPPOHJg3m'"
      ]
     },
     "execution_count": 271,
     "metadata": {},
     "output_type": "execute_result"
    }
   ],
   "source": [
    "# Confirm success.\n",
    "mars_weather"
   ]
  },
  {
   "cell_type": "markdown",
   "metadata": {},
   "source": [
    "### Scrape Space Facts Mars page\n",
    "Use Pandas"
   ]
  },
  {
   "cell_type": "code",
   "execution_count": 272,
   "metadata": {},
   "outputs": [],
   "source": [
    "# Set path and visit\n",
    "SFMurl = 'https://space-facts.com/mars/'"
   ]
  },
  {
   "cell_type": "code",
   "execution_count": 273,
   "metadata": {},
   "outputs": [],
   "source": [
    "# Set tables\n",
    "Marstable= pd.read_html(SFMurl)"
   ]
  },
  {
   "cell_type": "code",
   "execution_count": 274,
   "metadata": {},
   "outputs": [
    {
     "name": "stdout",
     "output_type": "stream",
     "text": [
      "[  Mars - Earth Comparison             Mars            Earth\n",
      "0               Diameter:         6,779 km        12,742 km\n",
      "1                   Mass:  6.39 × 10^23 kg  5.97 × 10^24 kg\n",
      "2                  Moons:                2                1\n",
      "3      Distance from Sun:   227,943,824 km   149,598,262 km\n",
      "4         Length of Year:   687 Earth days      365.24 days\n",
      "5            Temperature:    -153 to 20 °C      -88 to 58°C,                       0                              1\n",
      "0  Equatorial Diameter:                       6,792 km\n",
      "1       Polar Diameter:                       6,752 km\n",
      "2                 Mass:  6.39 × 10^23 kg (0.11 Earths)\n",
      "3                Moons:            2 (Phobos & Deimos)\n",
      "4       Orbit Distance:       227,943,824 km (1.38 AU)\n",
      "5         Orbit Period:           687 days (1.9 years)\n",
      "6  Surface Temperature:                   -87 to -5 °C\n",
      "7         First Record:              2nd millennium BC\n",
      "8          Recorded By:           Egyptian astronomers]\n"
     ]
    }
   ],
   "source": [
    "print(Marstable)"
   ]
  },
  {
   "cell_type": "code",
   "execution_count": 275,
   "metadata": {},
   "outputs": [],
   "source": [
    "# Make a DF. Need second table (index 1)\n",
    "MarsDF = Marstable[1]"
   ]
  },
  {
   "cell_type": "code",
   "execution_count": 276,
   "metadata": {
    "scrolled": true
   },
   "outputs": [
    {
     "data": {
      "text/html": [
       "<div>\n",
       "<style scoped>\n",
       "    .dataframe tbody tr th:only-of-type {\n",
       "        vertical-align: middle;\n",
       "    }\n",
       "\n",
       "    .dataframe tbody tr th {\n",
       "        vertical-align: top;\n",
       "    }\n",
       "\n",
       "    .dataframe thead th {\n",
       "        text-align: right;\n",
       "    }\n",
       "</style>\n",
       "<table border=\"1\" class=\"dataframe\">\n",
       "  <thead>\n",
       "    <tr style=\"text-align: right;\">\n",
       "      <th></th>\n",
       "      <th>0</th>\n",
       "      <th>1</th>\n",
       "    </tr>\n",
       "  </thead>\n",
       "  <tbody>\n",
       "    <tr>\n",
       "      <th>0</th>\n",
       "      <td>Equatorial Diameter:</td>\n",
       "      <td>6,792 km</td>\n",
       "    </tr>\n",
       "    <tr>\n",
       "      <th>1</th>\n",
       "      <td>Polar Diameter:</td>\n",
       "      <td>6,752 km</td>\n",
       "    </tr>\n",
       "    <tr>\n",
       "      <th>2</th>\n",
       "      <td>Mass:</td>\n",
       "      <td>6.39 × 10^23 kg (0.11 Earths)</td>\n",
       "    </tr>\n",
       "    <tr>\n",
       "      <th>3</th>\n",
       "      <td>Moons:</td>\n",
       "      <td>2 (Phobos &amp; Deimos)</td>\n",
       "    </tr>\n",
       "    <tr>\n",
       "      <th>4</th>\n",
       "      <td>Orbit Distance:</td>\n",
       "      <td>227,943,824 km (1.38 AU)</td>\n",
       "    </tr>\n",
       "    <tr>\n",
       "      <th>5</th>\n",
       "      <td>Orbit Period:</td>\n",
       "      <td>687 days (1.9 years)</td>\n",
       "    </tr>\n",
       "    <tr>\n",
       "      <th>6</th>\n",
       "      <td>Surface Temperature:</td>\n",
       "      <td>-87 to -5 °C</td>\n",
       "    </tr>\n",
       "    <tr>\n",
       "      <th>7</th>\n",
       "      <td>First Record:</td>\n",
       "      <td>2nd millennium BC</td>\n",
       "    </tr>\n",
       "    <tr>\n",
       "      <th>8</th>\n",
       "      <td>Recorded By:</td>\n",
       "      <td>Egyptian astronomers</td>\n",
       "    </tr>\n",
       "  </tbody>\n",
       "</table>\n",
       "</div>"
      ],
      "text/plain": [
       "                      0                              1\n",
       "0  Equatorial Diameter:                       6,792 km\n",
       "1       Polar Diameter:                       6,752 km\n",
       "2                 Mass:  6.39 × 10^23 kg (0.11 Earths)\n",
       "3                Moons:            2 (Phobos & Deimos)\n",
       "4       Orbit Distance:       227,943,824 km (1.38 AU)\n",
       "5         Orbit Period:           687 days (1.9 years)\n",
       "6  Surface Temperature:                   -87 to -5 °C\n",
       "7         First Record:              2nd millennium BC\n",
       "8          Recorded By:           Egyptian astronomers"
      ]
     },
     "execution_count": 276,
     "metadata": {},
     "output_type": "execute_result"
    }
   ],
   "source": [
    "MarsDF"
   ]
  },
  {
   "cell_type": "code",
   "execution_count": 277,
   "metadata": {},
   "outputs": [],
   "source": [
    "# Give the table descriptive column names\n",
    "MarsDF.columns = ['Description', 'Value']"
   ]
  },
  {
   "cell_type": "code",
   "execution_count": 278,
   "metadata": {
    "scrolled": true
   },
   "outputs": [
    {
     "data": {
      "text/html": [
       "<div>\n",
       "<style scoped>\n",
       "    .dataframe tbody tr th:only-of-type {\n",
       "        vertical-align: middle;\n",
       "    }\n",
       "\n",
       "    .dataframe tbody tr th {\n",
       "        vertical-align: top;\n",
       "    }\n",
       "\n",
       "    .dataframe thead th {\n",
       "        text-align: right;\n",
       "    }\n",
       "</style>\n",
       "<table border=\"1\" class=\"dataframe\">\n",
       "  <thead>\n",
       "    <tr style=\"text-align: right;\">\n",
       "      <th></th>\n",
       "      <th>Description</th>\n",
       "      <th>Value</th>\n",
       "    </tr>\n",
       "  </thead>\n",
       "  <tbody>\n",
       "    <tr>\n",
       "      <th>0</th>\n",
       "      <td>Equatorial Diameter:</td>\n",
       "      <td>6,792 km</td>\n",
       "    </tr>\n",
       "    <tr>\n",
       "      <th>1</th>\n",
       "      <td>Polar Diameter:</td>\n",
       "      <td>6,752 km</td>\n",
       "    </tr>\n",
       "    <tr>\n",
       "      <th>2</th>\n",
       "      <td>Mass:</td>\n",
       "      <td>6.39 × 10^23 kg (0.11 Earths)</td>\n",
       "    </tr>\n",
       "    <tr>\n",
       "      <th>3</th>\n",
       "      <td>Moons:</td>\n",
       "      <td>2 (Phobos &amp; Deimos)</td>\n",
       "    </tr>\n",
       "    <tr>\n",
       "      <th>4</th>\n",
       "      <td>Orbit Distance:</td>\n",
       "      <td>227,943,824 km (1.38 AU)</td>\n",
       "    </tr>\n",
       "    <tr>\n",
       "      <th>5</th>\n",
       "      <td>Orbit Period:</td>\n",
       "      <td>687 days (1.9 years)</td>\n",
       "    </tr>\n",
       "    <tr>\n",
       "      <th>6</th>\n",
       "      <td>Surface Temperature:</td>\n",
       "      <td>-87 to -5 °C</td>\n",
       "    </tr>\n",
       "    <tr>\n",
       "      <th>7</th>\n",
       "      <td>First Record:</td>\n",
       "      <td>2nd millennium BC</td>\n",
       "    </tr>\n",
       "    <tr>\n",
       "      <th>8</th>\n",
       "      <td>Recorded By:</td>\n",
       "      <td>Egyptian astronomers</td>\n",
       "    </tr>\n",
       "  </tbody>\n",
       "</table>\n",
       "</div>"
      ],
      "text/plain": [
       "            Description                          Value\n",
       "0  Equatorial Diameter:                       6,792 km\n",
       "1       Polar Diameter:                       6,752 km\n",
       "2                 Mass:  6.39 × 10^23 kg (0.11 Earths)\n",
       "3                Moons:            2 (Phobos & Deimos)\n",
       "4       Orbit Distance:       227,943,824 km (1.38 AU)\n",
       "5         Orbit Period:           687 days (1.9 years)\n",
       "6  Surface Temperature:                   -87 to -5 °C\n",
       "7         First Record:              2nd millennium BC\n",
       "8          Recorded By:           Egyptian astronomers"
      ]
     },
     "execution_count": 278,
     "metadata": {},
     "output_type": "execute_result"
    }
   ],
   "source": [
    "MarsDF"
   ]
  },
  {
   "cell_type": "code",
   "execution_count": 279,
   "metadata": {},
   "outputs": [
    {
     "data": {
      "text/html": [
       "<div>\n",
       "<style scoped>\n",
       "    .dataframe tbody tr th:only-of-type {\n",
       "        vertical-align: middle;\n",
       "    }\n",
       "\n",
       "    .dataframe tbody tr th {\n",
       "        vertical-align: top;\n",
       "    }\n",
       "\n",
       "    .dataframe thead th {\n",
       "        text-align: right;\n",
       "    }\n",
       "</style>\n",
       "<table border=\"1\" class=\"dataframe\">\n",
       "  <thead>\n",
       "    <tr style=\"text-align: right;\">\n",
       "      <th></th>\n",
       "      <th>Value</th>\n",
       "    </tr>\n",
       "    <tr>\n",
       "      <th>Description</th>\n",
       "      <th></th>\n",
       "    </tr>\n",
       "  </thead>\n",
       "  <tbody>\n",
       "    <tr>\n",
       "      <th>Equatorial Diameter:</th>\n",
       "      <td>6,792 km</td>\n",
       "    </tr>\n",
       "    <tr>\n",
       "      <th>Polar Diameter:</th>\n",
       "      <td>6,752 km</td>\n",
       "    </tr>\n",
       "    <tr>\n",
       "      <th>Mass:</th>\n",
       "      <td>6.39 × 10^23 kg (0.11 Earths)</td>\n",
       "    </tr>\n",
       "    <tr>\n",
       "      <th>Moons:</th>\n",
       "      <td>2 (Phobos &amp; Deimos)</td>\n",
       "    </tr>\n",
       "    <tr>\n",
       "      <th>Orbit Distance:</th>\n",
       "      <td>227,943,824 km (1.38 AU)</td>\n",
       "    </tr>\n",
       "    <tr>\n",
       "      <th>Orbit Period:</th>\n",
       "      <td>687 days (1.9 years)</td>\n",
       "    </tr>\n",
       "    <tr>\n",
       "      <th>Surface Temperature:</th>\n",
       "      <td>-87 to -5 °C</td>\n",
       "    </tr>\n",
       "    <tr>\n",
       "      <th>First Record:</th>\n",
       "      <td>2nd millennium BC</td>\n",
       "    </tr>\n",
       "    <tr>\n",
       "      <th>Recorded By:</th>\n",
       "      <td>Egyptian astronomers</td>\n",
       "    </tr>\n",
       "  </tbody>\n",
       "</table>\n",
       "</div>"
      ],
      "text/plain": [
       "                                              Value\n",
       "Description                                        \n",
       "Equatorial Diameter:                       6,792 km\n",
       "Polar Diameter:                            6,752 km\n",
       "Mass:                 6.39 × 10^23 kg (0.11 Earths)\n",
       "Moons:                          2 (Phobos & Deimos)\n",
       "Orbit Distance:            227,943,824 km (1.38 AU)\n",
       "Orbit Period:                  687 days (1.9 years)\n",
       "Surface Temperature:                   -87 to -5 °C\n",
       "First Record:                     2nd millennium BC\n",
       "Recorded By:                   Egyptian astronomers"
      ]
     },
     "execution_count": 279,
     "metadata": {},
     "output_type": "execute_result"
    }
   ],
   "source": [
    "# Set the index to Description column\n",
    "MarsDF.set_index('Description')"
   ]
  },
  {
   "cell_type": "code",
   "execution_count": 280,
   "metadata": {},
   "outputs": [],
   "source": [
    "# Convert to html and export as an html file\n",
    "MarsDF.to_html('MarsFacts_table.html')"
   ]
  },
  {
   "cell_type": "markdown",
   "metadata": {},
   "source": [
    "### Scraper USGS Astrogeology site for images of Mars' hemispheres"
   ]
  },
  {
   "cell_type": "code",
   "execution_count": 281,
   "metadata": {},
   "outputs": [],
   "source": [
    "# Set URL and visit it\n",
    "USGSurl = 'https://astrogeology.usgs.gov/search/results?q=hemisphere+enhanced&k1=target&v1=Mars'\n",
    "browser.visit(USGSurl)"
   ]
  },
  {
   "cell_type": "code",
   "execution_count": 282,
   "metadata": {},
   "outputs": [],
   "source": [
    "# Find images\n",
    "html = browser.html\n",
    "USGSsoup = bs(html, 'html.parser')\n",
    "enhanced_images = USGSsoup.find_all('img', class_=\"thumb\")"
   ]
  },
  {
   "cell_type": "code",
   "execution_count": 283,
   "metadata": {},
   "outputs": [
    {
     "name": "stdout",
     "output_type": "stream",
     "text": [
      "[{'Image': 'Cerberus Hemisphere Enhanced', 'URL': 'https://astrogeology.usgs.gov/spaceimages/images/largesize/PIA19821_hires.jpg'}, {'Image': 'Schiaparelli Hemisphere Enhanced', 'URL': 'https://astrogeology.usgs.gov/spaceimages/images/largesize/PIA19821_hires.jpg'}, {'Image': 'Syrtis Major Hemisphere Enhanced', 'URL': 'https://astrogeology.usgs.gov/spaceimages/images/largesize/PIA19821_hires.jpg'}, {'Image': 'Valles Marineris Hemisphere Enhanced', 'URL': 'https://astrogeology.usgs.gov/spaceimages/images/largesize/PIA19821_hires.jpg'}]\n"
     ]
    }
   ],
   "source": [
    "# Create an empty list for your lovely dictionary\n",
    "hemisphere_dictionary = []\n",
    "\n",
    "#Loop through all of the thumbnails\n",
    "for image in range(len(enhanced_images)):\n",
    "    # Use a try/else; will stop errors from ruining everything\n",
    "    try:\n",
    "        # Use find by css to use CSS tags to identify things. All clickable links (with image titles)\n",
    "        # are on the h3 level. \n",
    "        # Get the text of the link; it's the title.\n",
    "        image_title = browser.find_by_css('a.product-item h3')[image].text\n",
    "        # Use CSS to identify the active links (same as above) and click on them. \n",
    "        browser.find_by_css('a.product-item h3')[image].click()\n",
    "        # Pause for a breather. \n",
    "        time.sleep(3)\n",
    "        # Now, click by text. Use Sample to see full image in browser. Other one will download,\n",
    "        # which is not the desired effect. \n",
    "        browser.click_link_by_partial_text('Sample') \n",
    "        # Pause for another breather. \n",
    "        time.sleep(3)\n",
    "    #     Start scraping. Yes, again. \n",
    "        html = browser.html\n",
    "        USGSsoup = bs(html, 'html.parser')\n",
    "        # Get the URL\n",
    "        # Get the relative link first\n",
    "        # There's only one image on the page. Select it, get the source\n",
    "        relative_img = USGSsoup.select_one('img').get('src')\n",
    "        # Add the relative path to the main URL to get the full URL\n",
    "        full_image_path = f'https://astrogeology.usgs.gov{relative_path}'\n",
    "        # Append these to your dictionary\n",
    "        hemisphere_dictionary.append({'Image': image_title , 'URL': full_image_path})\n",
    "        # Go back from whence you came\n",
    "        browser.back()\n",
    "    except:\n",
    "        # Channel Arya if something bad happens.  \n",
    "        print(\"What do we say to death? Not today.\")\n",
    "    \n",
    "print(hemisphere_dictionary)"
   ]
  },
  {
   "cell_type": "code",
   "execution_count": 284,
   "metadata": {},
   "outputs": [
    {
     "name": "stdout",
     "output_type": "stream",
     "text": [
      "[{'Image': 'Cerberus Hemisphere Enhanced', 'URL': 'https://astrogeology.usgs.gov/spaceimages/images/largesize/PIA19821_hires.jpg'}, {'Image': 'Schiaparelli Hemisphere Enhanced', 'URL': 'https://astrogeology.usgs.gov/spaceimages/images/largesize/PIA19821_hires.jpg'}, {'Image': 'Syrtis Major Hemisphere Enhanced', 'URL': 'https://astrogeology.usgs.gov/spaceimages/images/largesize/PIA19821_hires.jpg'}, {'Image': 'Valles Marineris Hemisphere Enhanced', 'URL': 'https://astrogeology.usgs.gov/spaceimages/images/largesize/PIA19821_hires.jpg'}]\n"
     ]
    }
   ],
   "source": [
    "print(hemisphere_dictionary)"
   ]
  },
  {
   "cell_type": "code",
   "execution_count": 285,
   "metadata": {},
   "outputs": [],
   "source": [
    "import pprint"
   ]
  },
  {
   "cell_type": "code",
   "execution_count": 286,
   "metadata": {
    "scrolled": true
   },
   "outputs": [
    {
     "name": "stdout",
     "output_type": "stream",
     "text": [
      "[{'Image': 'Cerberus Hemisphere Enhanced',\n",
      "  'URL': 'https://astrogeology.usgs.gov/spaceimages/images/largesize/PIA19821_hires.jpg'},\n",
      " {'Image': 'Schiaparelli Hemisphere Enhanced',\n",
      "  'URL': 'https://astrogeology.usgs.gov/spaceimages/images/largesize/PIA19821_hires.jpg'},\n",
      " {'Image': 'Syrtis Major Hemisphere Enhanced',\n",
      "  'URL': 'https://astrogeology.usgs.gov/spaceimages/images/largesize/PIA19821_hires.jpg'},\n",
      " {'Image': 'Valles Marineris Hemisphere Enhanced',\n",
      "  'URL': 'https://astrogeology.usgs.gov/spaceimages/images/largesize/PIA19821_hires.jpg'}]\n"
     ]
    }
   ],
   "source": [
    "pprint.pprint(hemisphere_dictionary)"
   ]
  },
  {
   "cell_type": "markdown",
   "metadata": {},
   "source": [
    "## Prepare for Step Two: Mongo DB and Flask application\n",
    "\n",
    "### Need to convert notebook to Python Script and be sure that it will return a single dictionary with all results. Testing dictionary here. "
   ]
  },
  {
   "cell_type": "code",
   "execution_count": 287,
   "metadata": {},
   "outputs": [],
   "source": [
    "## Make results dictionary to test. <3  \n",
    "\n",
    "Mars_dict = {\"Headline\": NASAtitle1, \"Summary\": NASAparagraph1, \n",
    "             \"ImageURL\": full_path, \"Weather\": mars_weather, \n",
    "             \"Table\": MarsDF, \"Hemisphere Dictionaries\": hemisphere_dictionary}\n",
    "\n"
   ]
  },
  {
   "cell_type": "code",
   "execution_count": 289,
   "metadata": {},
   "outputs": [
    {
     "name": "stdout",
     "output_type": "stream",
     "text": [
      "{'Headline': \"What's Mars Solar Conjunction, and Why Does It Matter?\",\n",
      " 'Hemisphere Dictionaries': [{'Image': 'Cerberus Hemisphere Enhanced',\n",
      "                              'URL': 'https://astrogeology.usgs.gov/spaceimages/images/largesize/PIA19821_hires.jpg'},\n",
      "                             {'Image': 'Schiaparelli Hemisphere Enhanced',\n",
      "                              'URL': 'https://astrogeology.usgs.gov/spaceimages/images/largesize/PIA19821_hires.jpg'},\n",
      "                             {'Image': 'Syrtis Major Hemisphere Enhanced',\n",
      "                              'URL': 'https://astrogeology.usgs.gov/spaceimages/images/largesize/PIA19821_hires.jpg'},\n",
      "                             {'Image': 'Valles Marineris Hemisphere Enhanced',\n",
      "                              'URL': 'https://astrogeology.usgs.gov/spaceimages/images/largesize/PIA19821_hires.jpg'}],\n",
      " 'ImageURL': 'https://www.jpl.nasa.gov/spaceimages/images/largesize/PIA19821_hires.jpg',\n",
      " 'Summary': 'NASA spacecraft at Mars are going to be on their own for a few '\n",
      "            'weeks when the Sun comes between Mars and Earth, interrupting '\n",
      "            'communications.',\n",
      " 'Table':             Description                          Value\n",
      "0  Equatorial Diameter:                       6,792 km\n",
      "1       Polar Diameter:                       6,752 km\n",
      "2                 Mass:  6.39 × 10^23 kg (0.11 Earths)\n",
      "3                Moons:            2 (Phobos & Deimos)\n",
      "4       Orbit Distance:       227,943,824 km (1.38 AU)\n",
      "5         Orbit Period:           687 days (1.9 years)\n",
      "6  Surface Temperature:                   -87 to -5 °C\n",
      "7         First Record:              2nd millennium BC\n",
      "8          Recorded By:           Egyptian astronomers,\n",
      " 'Weather': 'InSight sol 261 (2019-08-21) low -102.4ºC (-152.4ºF) high -26.6ºC '\n",
      "            '(-15.8ºF)\\n'\n",
      "            'winds from the SSE at 4.9 m/s (11.0 mph) gusting to 16.0 m/s '\n",
      "            '(35.8 mph)\\n'\n",
      "            'pressure at 7.70 hPapic.twitter.com/MhPPOHJg3m'}\n"
     ]
    }
   ],
   "source": [
    "pprint.pprint(Mars_dict)"
   ]
  },
  {
   "cell_type": "code",
   "execution_count": null,
   "metadata": {},
   "outputs": [],
   "source": []
  }
 ],
 "metadata": {
  "kernelspec": {
   "display_name": "Python 3",
   "language": "python",
   "name": "python3"
  },
  "language_info": {
   "codemirror_mode": {
    "name": "ipython",
    "version": 3
   },
   "file_extension": ".py",
   "mimetype": "text/x-python",
   "name": "python",
   "nbconvert_exporter": "python",
   "pygments_lexer": "ipython3",
   "version": "3.7.3"
  }
 },
 "nbformat": 4,
 "nbformat_minor": 2
}
